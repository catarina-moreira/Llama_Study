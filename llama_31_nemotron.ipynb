{
 "cells": [
  {
   "cell_type": "code",
   "execution_count": null,
   "metadata": {},
   "outputs": [],
   "source": [
    "SETUP = False\n",
    "\n",
    "if SETUP:\n",
    "    !pip install OpenAI\n",
    "    !pip install torch transformers"
   ]
  },
  {
   "cell_type": "code",
   "execution_count": 1,
   "metadata": {},
   "outputs": [],
   "source": [
    "from openai import OpenAI"
   ]
  },
  {
   "cell_type": "code",
   "execution_count": 4,
   "metadata": {},
   "outputs": [
    {
     "name": "stdout",
     "output_type": "stream",
     "text": [
      "Here is the extracted entity output from the provided text:\n",
      "\n",
      "* **Entities:**\n",
      "\t+ **Alice**: \n",
      "\t\t- **Type**: Person\n",
      "\t\t- **Description**: Main character\n",
      "\t+ **The White Rabbit**: \n",
      "\t\t- **Type**: Animal (Fantasy/Anthropomorphic)\n",
      "\t\t- **Description**: Character with human-like behaviors\n",
      "\t+ **Alice's Sister**: \n",
      "\t\t- **Type**: Person\n",
      "\t\t- **Description**: Alice's family member, mentioned as reading a book\n",
      "* **Locations:**\n",
      "\t+ **The Bank**: \n",
      "\t\t- **Type**: Geographic Feature/Natural Location\n",
      "\t\t- **Description**: Initial setting where Alice sits with her sister\n",
      "\t+ **The Field**: \n",
      "\t\t- **Type**: Geographic Feature/Natural Location\n",
      "\t\t- **Description**: Area where Alice runs after the White Rabbit\n",
      "\t+ **The Rabbit-Hole**: \n",
      "\t\t- **Type**: Location (Fantasy/Underground)\n",
      "\t\t- **Description**: Entrance to an underground tunnel/well\n",
      "\t+ **Under the Hedge**: \n",
      "\t\t- **Type**: Geographic Feature/Natural Location\n",
      "\t\t- **Description**: Specific location of the rabbit-hole's entrance\n",
      "\t+ **The Deep Well (underground)**: \n",
      "\t\t- **Type**: Location (Fantasy/Underground)\n",
      "\t\t- **Description**: Destination after falling through the rabbit-hole\n",
      "* **Objects:**\n",
      "\t+ **The Book**: \n",
      "\t\t- **Type**: Written Work\n",
      "\t\t- **Description**: Being read by Alice's sister, noted for lacking pictures or conversations\n",
      "\t+ **Daisies**: \n",
      "\t\t- **Type**: Plants/Flowers\n",
      "\t\t- **Description**: Considered by Alice for making a daisy-chain\n",
      "\t+ **Watch**: \n",
      "\t\t- **Type**: Timekeeping Device\n",
      "\t\t- **Description**: Carried by the White Rabbit in its waistcoat-pocket\n",
      "\t+ **Waistcoat-Pocket**: \n",
      "\t\t- **Type**: Clothing Feature\n",
      "\t\t- **Description**: Part of the White Rabbit's attire, used to carry a watch"
     ]
    }
   ],
   "source": [
    "client = OpenAI(\n",
    "    base_url= \"https://integrate.api.nvidia.com/v1\",\n",
    "    api_key = \"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\"\n",
    ")\n",
    "\n",
    "completion = client.chat.completions.create(\n",
    "    model=\"nvidia/llama-3.1-nemotron-70b-instruct\",\n",
    "    messages=[  \n",
    "                {\"role\":\"system\",\n",
    "                \"content\":\n",
    "                        \"\"\"You are an expert in extracting entities from text. \n",
    "                        Example: \n",
    "                            Input: Alice is in Portugal.\n",
    "                            Output: \n",
    "                                { Alice: Person, Portugal: Location }\n",
    "                        \"\"\"},\n",
    "                {\"role\":\"user\",\n",
    "                \"content\":\"\"\"Extract entities from the following text: \n",
    "                Alice was beginning to get very tired of sitting by her sister on the bank, and of having nothing to do: once or twice she had peeped into the book her sister was reading, but it had no pictures or conversations in it, “and what is the use of a book,” thought Alice “without pictures or conversations?”\n",
    "                So she was considering in her own mind (as well as she could, for the hot day made her feel very sleepy and stupid), whether the pleasure of making a daisy-chain would be worth the trouble of getting up and picking the daisies, when suddenly a White Rabbit with pink eyes ran close by her.\n",
    "                There was nothing so very remarkable in that; nor did Alice think it so very much out of the way to hear the Rabbit say to itself, “Oh dear! Oh dear! I shall be late!” (when she thought it over afterwards, it occurred to her that she ought to have wondered at this, but at the time it all seemed quite natural); but when the Rabbit actually took a watch out of its waistcoat-pocket, and looked at it, and then hurried on, Alice started to her feet, for it flashed across her mind that she had never before seen a rabbit with either a waistcoat-pocket, or a watch to take out of it, and burning with curiosity, she ran across the field after it, and fortunately was just in time to see it pop down a large rabbit-hole under the hedge.\n",
    "                In another moment down went Alice after it, never once considering how in the world she was to get out again.\n",
    "                The rabbit-hole went straight on like a tunnel for some way, and then dipped suddenly down, so suddenly that Alice had not a moment to think about stopping herself before she found herself falling down a very deep well.\n",
    "                \"\"\"}],\n",
    "    temperature=0.1,\n",
    "    top_p=1,\n",
    "    max_tokens=1024,\n",
    "    stream=True\n",
    ")\n",
    "\n",
    "for chunk in completion:\n",
    "    if chunk.choices[0].delta.content is not None:\n",
    "        print(chunk.choices[0].delta.content, end=\"\")\n"
   ]
  },
  {
   "cell_type": "code",
   "execution_count": null,
   "metadata": {},
   "outputs": [],
   "source": []
  }
 ],
 "metadata": {
  "kernelspec": {
   "display_name": "LLMs",
   "language": "python",
   "name": "python3"
  },
  "language_info": {
   "codemirror_mode": {
    "name": "ipython",
    "version": 3
   },
   "file_extension": ".py",
   "mimetype": "text/x-python",
   "name": "python",
   "nbconvert_exporter": "python",
   "pygments_lexer": "ipython3",
   "version": "3.10.13"
  }
 },
 "nbformat": 4,
 "nbformat_minor": 2
}
